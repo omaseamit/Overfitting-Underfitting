{
 "cells": [
  {
   "cell_type": "markdown",
   "id": "aaf5831b",
   "metadata": {},
   "source": [
    "## Overfitting"
   ]
  },
  {
   "cell_type": "code",
   "execution_count": 136,
   "id": "678a5f69",
   "metadata": {},
   "outputs": [],
   "source": [
    "import pandas as pd\n",
    "import numpy as np\n",
    "import matplotlib.pyplot as plt\n",
    "import seaborn as sns\n",
    "%matplotlib inline\n",
    "from sklearn.metrics import mean_squared_error, mean_absolute_error, r2_score"
   ]
  },
  {
   "cell_type": "code",
   "execution_count": 139,
   "id": "3f627ca3",
   "metadata": {},
   "outputs": [
    {
     "data": {
      "text/html": [
       "<div>\n",
       "<style scoped>\n",
       "    .dataframe tbody tr th:only-of-type {\n",
       "        vertical-align: middle;\n",
       "    }\n",
       "\n",
       "    .dataframe tbody tr th {\n",
       "        vertical-align: top;\n",
       "    }\n",
       "\n",
       "    .dataframe thead th {\n",
       "        text-align: right;\n",
       "    }\n",
       "</style>\n",
       "<table border=\"1\" class=\"dataframe\">\n",
       "  <thead>\n",
       "    <tr style=\"text-align: right;\">\n",
       "      <th></th>\n",
       "      <th>fruit_label</th>\n",
       "      <th>fruit_name</th>\n",
       "      <th>mass</th>\n",
       "      <th>width</th>\n",
       "      <th>height</th>\n",
       "    </tr>\n",
       "  </thead>\n",
       "  <tbody>\n",
       "    <tr>\n",
       "      <th>0</th>\n",
       "      <td>1</td>\n",
       "      <td>apple</td>\n",
       "      <td>192</td>\n",
       "      <td>8.4</td>\n",
       "      <td>7.3</td>\n",
       "    </tr>\n",
       "    <tr>\n",
       "      <th>1</th>\n",
       "      <td>1</td>\n",
       "      <td>apple</td>\n",
       "      <td>180</td>\n",
       "      <td>8.0</td>\n",
       "      <td>6.8</td>\n",
       "    </tr>\n",
       "    <tr>\n",
       "      <th>2</th>\n",
       "      <td>1</td>\n",
       "      <td>apple</td>\n",
       "      <td>176</td>\n",
       "      <td>7.4</td>\n",
       "      <td>4.7</td>\n",
       "    </tr>\n",
       "    <tr>\n",
       "      <th>3</th>\n",
       "      <td>2</td>\n",
       "      <td>mandarin</td>\n",
       "      <td>86</td>\n",
       "      <td>6.2</td>\n",
       "      <td>4.7</td>\n",
       "    </tr>\n",
       "    <tr>\n",
       "      <th>4</th>\n",
       "      <td>2</td>\n",
       "      <td>mandarin</td>\n",
       "      <td>84</td>\n",
       "      <td>6.0</td>\n",
       "      <td>4.6</td>\n",
       "    </tr>\n",
       "  </tbody>\n",
       "</table>\n",
       "</div>"
      ],
      "text/plain": [
       "   fruit_label fruit_name  mass  width  height\n",
       "0            1      apple   192    8.4     7.3\n",
       "1            1      apple   180    8.0     6.8\n",
       "2            1      apple   176    7.4     4.7\n",
       "3            2   mandarin    86    6.2     4.7\n",
       "4            2   mandarin    84    6.0     4.6"
      ]
     },
     "execution_count": 139,
     "metadata": {},
     "output_type": "execute_result"
    }
   ],
   "source": [
    "df = pd.read_excel('E:\\\\Velocity\\\\Python\\\\Dataset\\\\fruits.xlsx')\n",
    "df.head()"
   ]
  },
  {
   "cell_type": "code",
   "execution_count": 140,
   "id": "373dc026",
   "metadata": {},
   "outputs": [
    {
     "data": {
      "text/plain": [
       "(61, 5)"
      ]
     },
     "execution_count": 140,
     "metadata": {},
     "output_type": "execute_result"
    }
   ],
   "source": [
    "df.shape"
   ]
  },
  {
   "cell_type": "code",
   "execution_count": 430,
   "id": "90b11aa2",
   "metadata": {},
   "outputs": [
    {
     "data": {
      "text/plain": [
       "apple       19\n",
       "orange      19\n",
       "lemon       16\n",
       "mandarin     5\n",
       "mango        2\n",
       "Name: fruit_name, dtype: int64"
      ]
     },
     "execution_count": 430,
     "metadata": {},
     "output_type": "execute_result"
    }
   ],
   "source": [
    "df['fruit_name'].value_counts()"
   ]
  },
  {
   "cell_type": "code",
   "execution_count": 141,
   "id": "c2e8d046",
   "metadata": {},
   "outputs": [
    {
     "name": "stdout",
     "output_type": "stream",
     "text": [
      "<class 'pandas.core.frame.DataFrame'>\n",
      "RangeIndex: 61 entries, 0 to 60\n",
      "Data columns (total 5 columns):\n",
      " #   Column       Non-Null Count  Dtype  \n",
      "---  ------       --------------  -----  \n",
      " 0   fruit_label  61 non-null     int64  \n",
      " 1   fruit_name   61 non-null     object \n",
      " 2   mass         61 non-null     int64  \n",
      " 3   width        61 non-null     float64\n",
      " 4   height       61 non-null     float64\n",
      "dtypes: float64(2), int64(2), object(1)\n",
      "memory usage: 2.5+ KB\n"
     ]
    }
   ],
   "source": [
    "df.info()"
   ]
  },
  {
   "cell_type": "code",
   "execution_count": 160,
   "id": "66297e99",
   "metadata": {},
   "outputs": [],
   "source": [
    "from sklearn.tree import DecisionTreeClassifier\n",
    "from sklearn.model_selection import train_test_split\n",
    "from sklearn import preprocessing\n",
    "\n",
    "X_train, X_test, y_train, y_test = train_test_split(df.drop(['fruit_name','fruit_label'],axis=1), \n",
    "                                                    df['fruit_label'], test_size=0.20, \n",
    "                                                    random_state=0)\n",
    "dtmodel = DecisionTreeClassifier()\n",
    "dtmodel.fit(X_train,y_train)\n",
    "\n",
    "dtmodel_predictions = dtmodel.predict(X_test)"
   ]
  },
  {
   "cell_type": "code",
   "execution_count": 161,
   "id": "398fe6ea",
   "metadata": {},
   "outputs": [
    {
     "name": "stdout",
     "output_type": "stream",
     "text": [
      "(48, 3)\n",
      "(13, 3)\n",
      "(48,)\n",
      "(13,)\n"
     ]
    }
   ],
   "source": [
    "print(X_train.shape)\n",
    "print(X_test.shape)\n",
    "print(y_train.shape)\n",
    "print(y_test.shape)"
   ]
  },
  {
   "cell_type": "code",
   "execution_count": 162,
   "id": "3bb36bb0",
   "metadata": {},
   "outputs": [],
   "source": [
    "from sklearn import tree\n",
    "clf_2 = tree.DecisionTreeClassifier(min_samples_split=2)\n",
    "clf_2.fit(X_train,y_train)\n",
    "pred_2 = clf_2.predict(X_test)"
   ]
  },
  {
   "cell_type": "code",
   "execution_count": 163,
   "id": "4b9894d4",
   "metadata": {},
   "outputs": [
    {
     "name": "stdout",
     "output_type": "stream",
     "text": [
      "[3 3 3 1 1 1 1 3 3 1 2 3 3]\n"
     ]
    }
   ],
   "source": [
    "print(pred_2)"
   ]
  },
  {
   "cell_type": "code",
   "execution_count": 164,
   "id": "e675bc8a",
   "metadata": {},
   "outputs": [
    {
     "name": "stdout",
     "output_type": "stream",
     "text": [
      "[3 3 4 4 2 1 3 4 3 3 4 1 4 3 1 2 3 1 4 1 4 1 1 3 3 1 4 4 4 3 1 1 4 3 2 1 3\n",
      " 4 1 1 1 3 4 2 1 4 4 4]\n"
     ]
    }
   ],
   "source": [
    "pred_train=clf_2.predict(X_train)\n",
    "print(pred_train)"
   ]
  },
  {
   "cell_type": "code",
   "execution_count": 165,
   "id": "30d027ad",
   "metadata": {},
   "outputs": [
    {
     "name": "stdout",
     "output_type": "stream",
     "text": [
      "Accuracy on training data is  1.0\n",
      "Accuracy on testing data is  0.6153846153846154\n"
     ]
    }
   ],
   "source": [
    "from sklearn.metrics import accuracy_score\n",
    "print('Accuracy on training data is ', accuracy_score(y_train,pred_train))\n",
    "print('Accuracy on testing data is ', accuracy_score(y_test,pred_2))"
   ]
  },
  {
   "cell_type": "markdown",
   "id": "1a4e6627",
   "metadata": {},
   "source": [
    "## Adding Data points"
   ]
  },
  {
   "cell_type": "code",
   "execution_count": 414,
   "id": "21e8a5f6",
   "metadata": {},
   "outputs": [
    {
     "data": {
      "text/html": [
       "<div>\n",
       "<style scoped>\n",
       "    .dataframe tbody tr th:only-of-type {\n",
       "        vertical-align: middle;\n",
       "    }\n",
       "\n",
       "    .dataframe tbody tr th {\n",
       "        vertical-align: top;\n",
       "    }\n",
       "\n",
       "    .dataframe thead th {\n",
       "        text-align: right;\n",
       "    }\n",
       "</style>\n",
       "<table border=\"1\" class=\"dataframe\">\n",
       "  <thead>\n",
       "    <tr style=\"text-align: right;\">\n",
       "      <th></th>\n",
       "      <th>fruit_label</th>\n",
       "      <th>fruit_name</th>\n",
       "      <th>mass</th>\n",
       "      <th>width</th>\n",
       "      <th>height</th>\n",
       "    </tr>\n",
       "  </thead>\n",
       "  <tbody>\n",
       "    <tr>\n",
       "      <th>0</th>\n",
       "      <td>1</td>\n",
       "      <td>apple</td>\n",
       "      <td>192</td>\n",
       "      <td>8.4</td>\n",
       "      <td>7.3</td>\n",
       "    </tr>\n",
       "    <tr>\n",
       "      <th>1</th>\n",
       "      <td>1</td>\n",
       "      <td>apple</td>\n",
       "      <td>180</td>\n",
       "      <td>8.0</td>\n",
       "      <td>6.8</td>\n",
       "    </tr>\n",
       "    <tr>\n",
       "      <th>2</th>\n",
       "      <td>1</td>\n",
       "      <td>apple</td>\n",
       "      <td>176</td>\n",
       "      <td>7.4</td>\n",
       "      <td>4.7</td>\n",
       "    </tr>\n",
       "    <tr>\n",
       "      <th>3</th>\n",
       "      <td>2</td>\n",
       "      <td>mandarin</td>\n",
       "      <td>86</td>\n",
       "      <td>6.2</td>\n",
       "      <td>4.7</td>\n",
       "    </tr>\n",
       "    <tr>\n",
       "      <th>4</th>\n",
       "      <td>2</td>\n",
       "      <td>mandarin</td>\n",
       "      <td>84</td>\n",
       "      <td>6.0</td>\n",
       "      <td>4.6</td>\n",
       "    </tr>\n",
       "  </tbody>\n",
       "</table>\n",
       "</div>"
      ],
      "text/plain": [
       "   fruit_label fruit_name  mass  width  height\n",
       "0            1      apple   192    8.4     7.3\n",
       "1            1      apple   180    8.0     6.8\n",
       "2            1      apple   176    7.4     4.7\n",
       "3            2   mandarin    86    6.2     4.7\n",
       "4            2   mandarin    84    6.0     4.6"
      ]
     },
     "execution_count": 414,
     "metadata": {},
     "output_type": "execute_result"
    }
   ],
   "source": [
    "df2 = pd.read_excel('E:\\\\Velocity\\\\Python\\\\Dataset\\\\fruits2.xlsx')\n",
    "df2.head()"
   ]
  },
  {
   "cell_type": "code",
   "execution_count": 431,
   "id": "0352da02",
   "metadata": {},
   "outputs": [
    {
     "data": {
      "text/plain": [
       "apple       19\n",
       "orange      19\n",
       "mandarin    16\n",
       "lemon       16\n",
       "mango       16\n",
       "Name: fruit_name, dtype: int64"
      ]
     },
     "execution_count": 431,
     "metadata": {},
     "output_type": "execute_result"
    }
   ],
   "source": [
    "# to over come this problem we simple add new data points.\n",
    "df2['fruit_name'].value_counts()"
   ]
  },
  {
   "cell_type": "code",
   "execution_count": 415,
   "id": "5054f0cd",
   "metadata": {},
   "outputs": [],
   "source": [
    "from sklearn.tree import DecisionTreeClassifier\n",
    "from sklearn.model_selection import train_test_split\n",
    "from sklearn import preprocessing\n",
    "\n",
    "X_train, X_test, y_train, y_test = train_test_split(df2.drop(['fruit_name','fruit_label'],axis=1), \n",
    "                                                    df2['fruit_label'], test_size=0.20, \n",
    "                                                    random_state=0)\n",
    "dtmodel = DecisionTreeClassifier()\n",
    "dtmodel.fit(X_train,y_train)\n",
    "\n",
    "dtmodel_predictions = dtmodel.predict(X_test)"
   ]
  },
  {
   "cell_type": "code",
   "execution_count": 416,
   "id": "c9eca52c",
   "metadata": {},
   "outputs": [
    {
     "name": "stdout",
     "output_type": "stream",
     "text": [
      "[1 1 4 1 5 3 1 4 3 2 2 3 1 5 1 1 3 4]\n"
     ]
    }
   ],
   "source": [
    "from sklearn import tree\n",
    "clf_2 = tree.DecisionTreeClassifier(min_samples_split=2)\n",
    "clf_2.fit(X_train,y_train)\n",
    "pred_2 = clf_2.predict(X_test)\n",
    "print(pred_2)"
   ]
  },
  {
   "cell_type": "code",
   "execution_count": 417,
   "id": "850a52a9",
   "metadata": {},
   "outputs": [
    {
     "name": "stdout",
     "output_type": "stream",
     "text": [
      "[5 3 1 2 5 4 5 4 2 2 2 2 5 5 3 1 4 4 5 2 4 2 1 1 3 3 2 2 2 1 3 3 1 3 1 4 1\n",
      " 3 5 5 1 3 5 1 5 1 3 4 2 2 1 2 3 3 4 3 5 4 1 5 3 1 1 2 5 5 4 4]\n"
     ]
    }
   ],
   "source": [
    "pred_train=clf_2.predict(X_train)\n",
    "print(pred_train)"
   ]
  },
  {
   "cell_type": "code",
   "execution_count": 418,
   "id": "686e2cb8",
   "metadata": {},
   "outputs": [
    {
     "name": "stdout",
     "output_type": "stream",
     "text": [
      "Accuracy on training data is  1.0\n",
      "Accuracy on testing data is  0.7777777777777778\n"
     ]
    }
   ],
   "source": [
    "from sklearn.metrics import accuracy_score\n",
    "print('Accuracy on training data is ', accuracy_score(y_train,pred_train))\n",
    "print('Accuracy on testing data is ', accuracy_score(y_test,pred_2))"
   ]
  },
  {
   "cell_type": "markdown",
   "id": "f86a85f3",
   "metadata": {},
   "source": [
    "## Underfitting"
   ]
  },
  {
   "cell_type": "code",
   "execution_count": 434,
   "id": "a60adfeb",
   "metadata": {},
   "outputs": [
    {
     "data": {
      "text/html": [
       "<div>\n",
       "<style scoped>\n",
       "    .dataframe tbody tr th:only-of-type {\n",
       "        vertical-align: middle;\n",
       "    }\n",
       "\n",
       "    .dataframe tbody tr th {\n",
       "        vertical-align: top;\n",
       "    }\n",
       "\n",
       "    .dataframe thead th {\n",
       "        text-align: right;\n",
       "    }\n",
       "</style>\n",
       "<table border=\"1\" class=\"dataframe\">\n",
       "  <thead>\n",
       "    <tr style=\"text-align: right;\">\n",
       "      <th></th>\n",
       "      <th>TV</th>\n",
       "      <th>Radio</th>\n",
       "      <th>Newspaper</th>\n",
       "      <th>Sales</th>\n",
       "    </tr>\n",
       "  </thead>\n",
       "  <tbody>\n",
       "    <tr>\n",
       "      <th>0</th>\n",
       "      <td>230.1</td>\n",
       "      <td>37.8</td>\n",
       "      <td>69.2</td>\n",
       "      <td>22.1</td>\n",
       "    </tr>\n",
       "    <tr>\n",
       "      <th>1</th>\n",
       "      <td>44.5</td>\n",
       "      <td>39.3</td>\n",
       "      <td>45.1</td>\n",
       "      <td>10.4</td>\n",
       "    </tr>\n",
       "    <tr>\n",
       "      <th>2</th>\n",
       "      <td>17.2</td>\n",
       "      <td>45.9</td>\n",
       "      <td>69.3</td>\n",
       "      <td>12.0</td>\n",
       "    </tr>\n",
       "    <tr>\n",
       "      <th>3</th>\n",
       "      <td>151.5</td>\n",
       "      <td>41.3</td>\n",
       "      <td>58.5</td>\n",
       "      <td>16.5</td>\n",
       "    </tr>\n",
       "    <tr>\n",
       "      <th>4</th>\n",
       "      <td>180.8</td>\n",
       "      <td>10.8</td>\n",
       "      <td>58.4</td>\n",
       "      <td>17.9</td>\n",
       "    </tr>\n",
       "  </tbody>\n",
       "</table>\n",
       "</div>"
      ],
      "text/plain": [
       "      TV  Radio  Newspaper  Sales\n",
       "0  230.1   37.8       69.2   22.1\n",
       "1   44.5   39.3       45.1   10.4\n",
       "2   17.2   45.9       69.3   12.0\n",
       "3  151.5   41.3       58.5   16.5\n",
       "4  180.8   10.8       58.4   17.9"
      ]
     },
     "execution_count": 434,
     "metadata": {},
     "output_type": "execute_result"
    }
   ],
   "source": [
    "df1 = pd.read_csv('C:\\\\Users\\\\user\\\\Downloads\\\\archive (5)\\\\advertising.csv')\n",
    "df1.head()"
   ]
  },
  {
   "cell_type": "code",
   "execution_count": 435,
   "id": "a7efb5b2",
   "metadata": {},
   "outputs": [],
   "source": [
    "from sklearn.linear_model import LinearRegression\n",
    "from sklearn.model_selection import train_test_split\n",
    "from sklearn import preprocessing\n",
    "\n",
    "X_train, X_test, y_train, y_test = train_test_split(df1.drop(['Sales','TV'],axis=1), \n",
    "                                                    df1['Sales'], test_size=0.20, \n",
    "                                                    random_state=20)\n",
    "dtmodel = LinearRegression()\n",
    "dtmodel.fit(X_train,y_train)\n",
    "\n",
    "dtmodel_predictions = dtmodel.predict(X_test)"
   ]
  },
  {
   "cell_type": "code",
   "execution_count": 436,
   "id": "80cb6e3f",
   "metadata": {},
   "outputs": [
    {
     "name": "stdout",
     "output_type": "stream",
     "text": [
      "(160, 2)\n",
      "(40, 2)\n",
      "(160,)\n",
      "(40,)\n"
     ]
    }
   ],
   "source": [
    "print(X_train.shape)\n",
    "print(X_test.shape)\n",
    "print(y_train.shape)\n",
    "print(y_test.shape)"
   ]
  },
  {
   "cell_type": "code",
   "execution_count": 437,
   "id": "4872eace",
   "metadata": {},
   "outputs": [],
   "source": [
    "from sklearn import linear_model\n",
    "clf_2 = linear_model.LinearRegression()\n",
    "clf_2.fit(X_train,y_train)\n",
    "pred_2 = clf_2.predict(X_test)"
   ]
  },
  {
   "cell_type": "code",
   "execution_count": 438,
   "id": "c786cd5a",
   "metadata": {},
   "outputs": [
    {
     "name": "stdout",
     "output_type": "stream",
     "text": [
      "[14.19452394 15.42975449 13.01777286 12.69603921 15.12790122 15.59993244\n",
      " 13.4900202  12.73321798 16.95381048 12.69194618 16.52904879 15.44495136\n",
      " 15.5314008  16.57172161 17.36588014 18.14789854 13.43665649 12.94808919\n",
      " 15.27376997 13.02237922 15.73128162 14.51377206 18.18039379 18.19916072\n",
      " 17.37018929 13.24458737 13.15263423 17.18186776 18.68158562 14.73971817\n",
      " 12.33434404 16.94954956 15.6026341  16.02530391 17.9767268  15.15424442\n",
      " 15.24880849 13.73063056 15.3631372  13.80445549]\n"
     ]
    }
   ],
   "source": [
    "print(pred_2)"
   ]
  },
  {
   "cell_type": "code",
   "execution_count": 439,
   "id": "0ab34c6c",
   "metadata": {},
   "outputs": [
    {
     "name": "stdout",
     "output_type": "stream",
     "text": [
      "[14.86905655 13.8301657  16.49541114 15.47693329 15.47354077 14.90154216\n",
      " 12.64746904 12.57690732 16.64174107 16.58585324 17.00696771 14.08215781\n",
      " 13.18140118 17.06310059 16.06433915 17.13775534 18.49583644 15.37580994\n",
      " 16.87356523 17.26496327 17.38976674 14.2157957  15.98648871 13.00292143\n",
      " 15.05855333 17.53848183 16.71885242 13.35287977 14.48818151 12.75250788\n",
      " 12.65104875 12.46650375 12.75693669 15.94422884 13.80004024 15.28276264\n",
      " 18.2659652  17.56805931 17.35903723 13.19318623 14.78261675 17.40218086\n",
      " 13.94766116 15.88897401 13.10477422 17.77595829 14.82013131 14.25296482\n",
      " 16.3814568  13.45074955 12.38684899 14.45356544 18.25771162 17.35945982\n",
      " 14.99534785 12.95985495 12.51615844 13.77515592 18.1595157  13.33709242\n",
      " 15.83788936 14.60786531 16.44342916 15.77107524 17.57268495 16.74997559\n",
      " 13.75600499 13.52290911 13.77348091 13.19475514 13.10757625 15.50550341\n",
      " 16.83029228 14.15044046 12.57029017 12.54280457 17.31514093 14.3531619\n",
      " 14.19079564 15.10647122 12.68907663 15.58156882 13.05241787 18.12054225\n",
      " 16.41037236 13.78351952 14.61231341 14.05556955 15.01427302 16.99152187\n",
      " 12.20823028 16.09158542 12.62584221 14.54985666 12.48171026 13.77655694\n",
      " 17.3429816  17.79797878 15.2582759  16.78370397 14.65431466 14.83098044\n",
      " 13.09883828 14.5583978  12.3089889  16.25485866 14.27796489 14.19520516\n",
      " 16.34644707 16.76966879 16.0713596  16.81764847 13.33715993 13.78604364\n",
      " 15.15702324 14.28014357 17.26489575 13.00866053 13.74994939 15.52284038\n",
      " 14.55966951 12.59493516 16.7053595  15.13694603 13.28443886 13.64080788\n",
      " 12.72050665 13.41501037 12.4154384  17.57465717 14.62486649 16.09945498\n",
      " 13.16903528 13.09169817 12.70871195 13.87671543 17.56093848 17.6686211\n",
      " 13.07273441 12.76142338 17.19611906 13.65922937 16.07066874 14.41749048\n",
      " 17.70248844 18.14751453 14.32474038 17.94629449 15.5078307  15.03801102\n",
      " 17.42011225 14.47641575 14.15362651 14.61856584 18.33716955 16.71481726\n",
      " 16.22065946 17.68970567 18.19343126 17.41641287]\n"
     ]
    }
   ],
   "source": [
    "pred_train=clf_2.predict(X_train)\n",
    "print(pred_train)"
   ]
  },
  {
   "cell_type": "code",
   "execution_count": 440,
   "id": "a3cbcca5",
   "metadata": {},
   "outputs": [
    {
     "name": "stdout",
     "output_type": "stream",
     "text": [
      "R Squared Value for training data : 0.12574952470803435\n"
     ]
    }
   ],
   "source": [
    "r_squared = r2_score(y_train, pred_train)\n",
    "print('R Squared Value for training data :', r_squared)"
   ]
  },
  {
   "cell_type": "code",
   "execution_count": 441,
   "id": "241bde2d",
   "metadata": {},
   "outputs": [
    {
     "name": "stdout",
     "output_type": "stream",
     "text": [
      "R Squared Value for texting data: 0.11402376451297636\n"
     ]
    }
   ],
   "source": [
    "r_squared = r2_score(y_test, pred_2)\n",
    "print('R Squared Value for texting data:', r_squared)"
   ]
  },
  {
   "cell_type": "code",
   "execution_count": null,
   "id": "9a0da4a6",
   "metadata": {},
   "outputs": [],
   "source": []
  }
 ],
 "metadata": {
  "kernelspec": {
   "display_name": "Python 3 (ipykernel)",
   "language": "python",
   "name": "python3"
  },
  "language_info": {
   "codemirror_mode": {
    "name": "ipython",
    "version": 3
   },
   "file_extension": ".py",
   "mimetype": "text/x-python",
   "name": "python",
   "nbconvert_exporter": "python",
   "pygments_lexer": "ipython3",
   "version": "3.9.7"
  }
 },
 "nbformat": 4,
 "nbformat_minor": 5
}
